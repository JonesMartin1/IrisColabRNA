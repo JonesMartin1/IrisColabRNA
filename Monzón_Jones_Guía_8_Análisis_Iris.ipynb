{
  "nbformat": 4,
  "nbformat_minor": 0,
  "metadata": {
    "colab": {
      "provenance": [],
      "authorship_tag": "ABX9TyPM+cIu1sY0DMLUmCABX2W8",
      "include_colab_link": true
    },
    "kernelspec": {
      "name": "python3",
      "display_name": "Python 3"
    },
    "language_info": {
      "name": "python"
    }
  },
  "cells": [
    {
      "cell_type": "markdown",
      "metadata": {
        "id": "view-in-github",
        "colab_type": "text"
      },
      "source": [
        "<a href=\"https://colab.research.google.com/github/JonesMartin1/DataTech-SEBE/blob/main/Monz%C3%B3n_Jones_Gu%C3%ADa_8_An%C3%A1lisis_Iris.ipynb\" target=\"_parent\"><img src=\"https://colab.research.google.com/assets/colab-badge.svg\" alt=\"Open In Colab\"/></a>"
      ]
    },
    {
      "cell_type": "code",
      "execution_count": 94,
      "metadata": {
        "colab": {
          "base_uri": "https://localhost:8080/"
        },
        "id": "xfDyNR_JN5ME",
        "outputId": "e4f2563f-7340-44bb-b533-26dcaa6d18da"
      },
      "outputs": [
        {
          "output_type": "stream",
          "name": "stdout",
          "text": [
            "   Id  SepalLengthCm  SepalWidthCm  PetalLengthCm  PetalWidthCm      Species\n",
            "0   1            5.1           3.5            1.4           0.2  Iris-setosa\n",
            "1   2            4.9           3.0            1.4           0.2  Iris-setosa\n",
            "2   3            4.7           3.2            1.3           0.2  Iris-setosa\n",
            "3   4            4.6           3.1            1.5           0.2  Iris-setosa\n",
            "4   5            5.0           3.6            1.4           0.2  Iris-setosa\n"
          ]
        }
      ],
      "source": [
        "#importar librerias\n",
        "import numpy as np\n",
        "import pandas as pd\n",
        "import kagglehub\n",
        "import os\n",
        "\n",
        "# Leer el dataset directamente desde la URL\n",
        "path = kagglehub.dataset_download(\"uciml/iris\")\n",
        "\n",
        "#importar datasets para el análisis\n",
        "iris = pd.read_csv(os.path.join(path, \"Iris.csv\"))\n",
        "\n",
        "#comprender los datos\n",
        "#visualizar las primeras filas del dataset\n",
        "print(iris.head())"
      ]
    },
    {
      "cell_type": "code",
      "source": [
        "#Analizar datos disponibles\n",
        "print('Información del dataset')\n",
        "print(iris.info())"
      ],
      "metadata": {
        "colab": {
          "base_uri": "https://localhost:8080/"
        },
        "id": "yFOqRn66OdT5",
        "outputId": "f214b9cd-8e73-4d09-897f-adfc52c25c8c"
      },
      "execution_count": 95,
      "outputs": [
        {
          "output_type": "stream",
          "name": "stdout",
          "text": [
            "Información del dataset\n",
            "<class 'pandas.core.frame.DataFrame'>\n",
            "RangeIndex: 150 entries, 0 to 149\n",
            "Data columns (total 6 columns):\n",
            " #   Column         Non-Null Count  Dtype  \n",
            "---  ------         --------------  -----  \n",
            " 0   Id             150 non-null    int64  \n",
            " 1   SepalLengthCm  150 non-null    float64\n",
            " 2   SepalWidthCm   150 non-null    float64\n",
            " 3   PetalLengthCm  150 non-null    float64\n",
            " 4   PetalWidthCm   150 non-null    float64\n",
            " 5   Species        150 non-null    object \n",
            "dtypes: float64(4), int64(1), object(1)\n",
            "memory usage: 7.2+ KB\n",
            "None\n"
          ]
        }
      ]
    },
    {
      "cell_type": "code",
      "source": [
        "#desplegar información estadística\n",
        "print('Descripción del dataset')\n",
        "print(iris.drop(columns=['Id']).describe())"
      ],
      "metadata": {
        "colab": {
          "base_uri": "https://localhost:8080/"
        },
        "id": "NhS9DIqOdVIz",
        "outputId": "4a932732-6aba-4e3a-f58c-8e76f8312b43"
      },
      "execution_count": 96,
      "outputs": [
        {
          "output_type": "stream",
          "name": "stdout",
          "text": [
            "Descripción del dataset\n",
            "       SepalLengthCm  SepalWidthCm  PetalLengthCm  PetalWidthCm\n",
            "count     150.000000    150.000000     150.000000    150.000000\n",
            "mean        5.843333      3.054000       3.758667      1.198667\n",
            "std         0.828066      0.433594       1.764420      0.763161\n",
            "min         4.300000      2.000000       1.000000      0.100000\n",
            "25%         5.100000      2.800000       1.600000      0.300000\n",
            "50%         5.800000      3.000000       4.350000      1.300000\n",
            "75%         6.400000      3.300000       5.100000      1.800000\n",
            "max         7.900000      4.400000       6.900000      2.500000\n"
          ]
        }
      ]
    },
    {
      "cell_type": "code",
      "source": [
        "#Distribución\n",
        "print('Distribución de las especies de Iris:')\n",
        "print(iris.groupby('Species').size())"
      ],
      "metadata": {
        "colab": {
          "base_uri": "https://localhost:8080/"
        },
        "id": "hFG93zvmdtmG",
        "outputId": "f0f0d5e0-c494-4844-9297-6b889ec606c0"
      },
      "execution_count": 97,
      "outputs": [
        {
          "output_type": "stream",
          "name": "stdout",
          "text": [
            "Distribución de las especies de Iris:\n",
            "Species\n",
            "Iris-setosa        50\n",
            "Iris-versicolor    50\n",
            "Iris-virginica     50\n",
            "dtype: int64\n"
          ]
        }
      ]
    },
    {
      "cell_type": "code",
      "source": [
        "import matplotlib.pyplot as plt\n",
        "\n",
        "#Gráfico sepal comparando la longitud con el anho\n",
        "fig = iris[iris.Species == 'Iris-setosa'].plot(kind='scatter', x='SepalLengthCm', y='SepalWidthCm', color='blue', label='Setosa')\n",
        "\n",
        "iris[iris.Species == 'Iris-versicolor'].plot(kind='scatter', x='SepalLengthCm', y='SepalWidthCm',color='green',label='Versiocolor',ax=fig)\n",
        "iris[iris.Species == 'Iris-virginica'].plot(kind='scatter', x='SepalLengthCm', y='SepalWidthCm', color='red', label='Virginica', ax=fig)\n",
        "\n",
        "fig.set_xlabel('Longitud del Sépalo')\n",
        "fig.set_ylabel('Ancho del Sépalo')\n",
        "fig.set_title('Comparación de longitudes y anchos de los diferentes tipos de Iris')\n",
        "plt.show()"
      ],
      "metadata": {
        "colab": {
          "base_uri": "https://localhost:8080/",
          "height": 473
        },
        "id": "IfBiGdnpeB04",
        "outputId": "c54af770-ceba-4954-86cf-dc694c06208e"
      },
      "execution_count": 98,
      "outputs": [
        {
          "output_type": "display_data",
          "data": {
            "text/plain": [
              "<Figure size 640x480 with 1 Axes>"
            ],
            "image/png": "[encoded data removed]"
          },
          "metadata": {}
        }
      ]
    },
    {
      "cell_type": "code",
      "source": [
        "from sklearn.preprocessing import LabelEncoder\n",
        "from tensorflow.keras.utils import to_categorical\n",
        "\n",
        "# Asignar la columna Species a Y\n",
        "Y = iris['Species']\n",
        "\n",
        "#codificar variables resultados\n",
        "encoder = LabelEncoder()\n",
        "encoder.fit(Y)\n",
        "encoded_Y = encoder.transform(Y)\n",
        "\n",
        "# codificación claiente ( hot encoded )\n",
        "dummy_y = to_categorical(encoded_Y)\n",
        "\n",
        "# Ver los primeros 10 valores codificados como números\n",
        "print(\"Label Encoding (primeros 10 valores):\")\n",
        "print(encoded_Y[:10])\n",
        "\n",
        "# Ver las primeras 5 filas del array one-hot codificado\n",
        "print(\"One Hot Encoding (primeras 5 filas):\")\n",
        "print(dummy_y[:5])\n"
      ],
      "metadata": {
        "colab": {
          "base_uri": "https://localhost:8080/"
        },
        "id": "UDV5Brcxp99v",
        "outputId": "4a0e6247-24b5-4a73-e056-ca5b39e506b6"
      },
      "execution_count": 99,
      "outputs": [
        {
          "output_type": "stream",
          "name": "stdout",
          "text": [
            "Label Encoding (primeros 10 valores):\n",
            "[0 0 0 0 0 0 0 0 0 0]\n",
            "One Hot Encoding (primeras 5 filas):\n",
            "[[1. 0. 0.]\n",
            " [1. 0. 0.]\n",
            " [1. 0. 0.]\n",
            " [1. 0. 0.]\n",
            " [1. 0. 0.]]\n"
          ]
        }
      ]
    },
    {
      "cell_type": "code",
      "source": [
        "# Crear un DataFrame para visualizarlo\n",
        "df_encoded = pd.DataFrame({\n",
        "    'Species_original': Y,\n",
        "    'Label_encoded': encoded_Y,\n",
        "    'OneHot_0': dummy_y[:, 0],\n",
        "    'OneHot_1': dummy_y[:, 1],\n",
        "    'OneHot_2': dummy_y[:, 2]\n",
        "})\n",
        "\n",
        "# Mostrar las primeras filas\n",
        "print(df_encoded.head())"
      ],
      "metadata": {
        "colab": {
          "base_uri": "https://localhost:8080/"
        },
        "id": "smgkH_8FrDuC",
        "outputId": "444d6002-c6a0-4c17-d8e1-4858c02d9ac5"
      },
      "execution_count": 100,
      "outputs": [
        {
          "output_type": "stream",
          "name": "stdout",
          "text": [
            "  Species_original  Label_encoded  OneHot_0  OneHot_1  OneHot_2\n",
            "0      Iris-setosa              0       1.0       0.0       0.0\n",
            "1      Iris-setosa              0       1.0       0.0       0.0\n",
            "2      Iris-setosa              0       1.0       0.0       0.0\n",
            "3      Iris-setosa              0       1.0       0.0       0.0\n",
            "4      Iris-setosa              0       1.0       0.0       0.0\n"
          ]
        }
      ]
    },
    {
      "cell_type": "code",
      "source": [
        "from sklearn.preprocessing import MinMaxScaler, StandardScaler\n",
        "import pandas as pd\n",
        "\n",
        "# Variables numéricas\n",
        "X = iris.drop(columns=['Species','Id'])\n",
        "\n",
        "# Normalización\n",
        "normalizer = MinMaxScaler()\n",
        "X_normalized = normalizer.fit_transform(X)\n",
        "\n",
        "# Convertir a DataFrame para visualizar\n",
        "df_normalized = pd.DataFrame(X_normalized, columns=X.columns)\n",
        "print(\"Primeras filas normalizadas:\")\n",
        "print(df_normalized.head())\n",
        "\n",
        "# Estandarización\n",
        "scaler = StandardScaler()\n",
        "X_standardized = scaler.fit_transform(X)\n",
        "\n",
        "# Convertir a DataFrame para visualizar\n",
        "df_standardized = pd.DataFrame(X_standardized, columns=X.columns)\n",
        "print(\"Primeras filas estandarizadas:\")\n",
        "print(df_standardized.head())"
      ],
      "metadata": {
        "colab": {
          "base_uri": "https://localhost:8080/"
        },
        "id": "wt2XT5pT-Lwi",
        "outputId": "d05f76d0-18bb-4101-bc48-3547c530b280"
      },
      "execution_count": 101,
      "outputs": [
        {
          "output_type": "stream",
          "name": "stdout",
          "text": [
            "Primeras filas normalizadas:\n",
            "   SepalLengthCm  SepalWidthCm  PetalLengthCm  PetalWidthCm\n",
            "0       0.222222      0.625000       0.067797      0.041667\n",
            "1       0.166667      0.416667       0.067797      0.041667\n",
            "2       0.111111      0.500000       0.050847      0.041667\n",
            "3       0.083333      0.458333       0.084746      0.041667\n",
            "4       0.194444      0.666667       0.067797      0.041667\n",
            "Primeras filas estandarizadas:\n",
            "   SepalLengthCm  SepalWidthCm  PetalLengthCm  PetalWidthCm\n",
            "0      -0.900681      1.032057      -1.341272     -1.312977\n",
            "1      -1.143017     -0.124958      -1.341272     -1.312977\n",
            "2      -1.385353      0.337848      -1.398138     -1.312977\n",
            "3      -1.506521      0.106445      -1.284407     -1.312977\n",
            "4      -1.021849      1.263460      -1.341272     -1.312977\n"
          ]
        }
      ]
    },
    {
      "cell_type": "code",
      "source": [
        "# Separación de datos\n",
        "from sklearn.model_selection import train_test_split\n",
        "\n",
        "# Modelos de clasificación\n",
        "from sklearn.neural_network import MLPClassifier            # Red Neuronal Artificial\n",
        "from sklearn.linear_model import LogisticRegression         # Regresión Logística\n",
        "from sklearn.svm import SVC                                 # Máquina de Vectores de Soporte\n",
        "from sklearn.neighbors import KNeighborsClassifier          # k-Vecinos\n",
        "from sklearn.tree import DecisionTreeClassifier             # Árbol de Decisión\n"
      ],
      "metadata": {
        "id": "m6oAt7qxH_Wc"
      },
      "execution_count": 102,
      "outputs": []
    },
    {
      "cell_type": "code",
      "source": [
        "# Construyendoun archivo de datos\n",
        "# Tenemos que distinguir variables evidenciales [X] de variables de respuesta [Y]\n",
        "\n",
        "X = np.array(iris.drop(columns=['Species']))\n",
        "y = np.array(iris['Species'])\n",
        "\n",
        "#Tenemos que distinguir datos de entrenamiento y prueba utilizando la instrucción train_test_split.\n",
        "X_train, X_test, y_train, y_test = train_test_split(X, y, test_size=0.2)\n",
        "print('{} datos de entrenamiento y {} datos de prueba'.format(X_train.shape[0], X_test.shape[0]))"
      ],
      "metadata": {
        "colab": {
          "base_uri": "https://localhost:8080/"
        },
        "id": "hKdcuuqOIevu",
        "outputId": "f804cc91-5436-493b-912b-c5df4e64eb16"
      },
      "execution_count": 103,
      "outputs": [
        {
          "output_type": "stream",
          "name": "stdout",
          "text": [
            "120 datos de entrenamiento y 30 datos de prueba\n"
          ]
        }
      ]
    },
    {
      "cell_type": "code",
      "source": [
        "# Ejecutando el algoritmo.\n",
        "# Se define el algoritmo que se va a utilizar.\n",
        "# Se entrena el conjunto de datos.\n",
        "# Se ejecuta la predicción utilizando los datos X_test.\n",
        "# Se utilizan métricas como precisión o confianza del algoritmo, optando por instrucciones tipo Score\n",
        "\n",
        "from sklearn.neural_network import MLPClassifier\n",
        "from sklearn.metrics import classification_report, confusion_matrix\n",
        "\n",
        "# 1. Definir el modelo\n",
        "modelo = MLPClassifier(hidden_layer_sizes=(10,4,3), max_iter=1000, random_state=100)\n",
        "\n",
        "# 2. Entrenar el modelo\n",
        "modelo.fit(X_train, y_train)\n",
        "\n",
        "# 3. Predecir sobre el conjunto de prueba\n",
        "y_pred = modelo.predict(X_test)\n",
        "\n",
        "# 4. Evaluar precisión\n",
        "accuracy = modelo.score(X_test, y_test)\n",
        "print(\"Precisión del modelo en el conjunto de prueba:\", accuracy)\n",
        "\n",
        "# 5. Métricas adicionales (opcional)\n",
        "print(\"Matriz de confusión:\")\n",
        "print(confusion_matrix(y_test, y_pred))\n",
        "\n",
        "print(\"\\nReporte de clasificación:\")\n",
        "print(classification_report(y_test, y_pred))\n"
      ],
      "metadata": {
        "colab": {
          "base_uri": "https://localhost:8080/"
        },
        "id": "DGLmFS1kK_To",
        "outputId": "fd2efa0c-f2d4-4292-bbc9-c4cfb1e15f8b"
      },
      "execution_count": 104,
      "outputs": [
        {
          "output_type": "stream",
          "name": "stdout",
          "text": [
            "Precisión del modelo en el conjunto de prueba: 1.0\n",
            "Matriz de confusión:\n",
            "[[12  0  0]\n",
            " [ 0 10  0]\n",
            " [ 0  0  8]]\n",
            "\n",
            "Reporte de clasificación:\n",
            "                 precision    recall  f1-score   support\n",
            "\n",
            "    Iris-setosa       1.00      1.00      1.00        12\n",
            "Iris-versicolor       1.00      1.00      1.00        10\n",
            " Iris-virginica       1.00      1.00      1.00         8\n",
            "\n",
            "       accuracy                           1.00        30\n",
            "      macro avg       1.00      1.00      1.00        30\n",
            "   weighted avg       1.00      1.00      1.00        30\n",
            "\n"
          ]
        },
        {
          "output_type": "stream",
          "name": "stderr",
          "text": [
            "/usr/local/lib/python3.11/dist-packages/sklearn/neural_network/_multilayer_perceptron.py:691: ConvergenceWarning: Stochastic Optimizer: Maximum iterations (1000) reached and the optimization hasn't converged yet.\n",
            "  warnings.warn(\n"
          ]
        }
      ]
    },
    {
      "cell_type": "code",
      "source": [
        "modeloPerfecto = MLPClassifier(\n",
        "    hidden_layer_sizes=(20, 10),\n",
        "    activation='relu',\n",
        "    solver='adam',\n",
        "    learning_rate_init=0.001,\n",
        "    max_iter=1000,\n",
        "    batch_size=16,\n",
        "    random_state=42\n",
        ")"
      ],
      "metadata": {
        "id": "5B44Dyyny6GZ"
      },
      "execution_count": 105,
      "outputs": []
    },
    {
      "cell_type": "markdown",
      "source": [],
      "metadata": {
        "id": "w9kP1Hu78Sq9"
      }
    },
    {
      "cell_type": "code",
      "source": [
        "modelo_softmax = MLPClassifier(\n",
        "    hidden_layer_sizes=(30,),       # 1 capa oculta con 30 neuronas\n",
        "    activation='logistic',          # sigmoid para permitir salida probabilística suave\n",
        "    solver='adam',                  # robusto y adaptable\n",
        "    learning_rate_init=0.001,\n",
        "    max_iter=1000,\n",
        "    random_state=42\n",
        ")\n",
        "\n",
        "modelo_softmax.fit(X_train, y_train)\n",
        "\n",
        "# Predicción como probabilidades (softmax)\n",
        "y_prob = modelo_softmax.predict_proba(X_test)\n",
        "\n",
        "# Predicción final (clase con mayor probabilidad)\n",
        "y_pred = modelo_softmax.predict(X_test)"
      ],
      "metadata": {
        "colab": {
          "base_uri": "https://localhost:8080/"
        },
        "id": "EZtLVc0g8N0n",
        "outputId": "39feeae5-e9a0-4e2c-928d-1f9532f794fc"
      },
      "execution_count": 106,
      "outputs": [
        {
          "output_type": "stream",
          "name": "stderr",
          "text": [
            "/usr/local/lib/python3.11/dist-packages/sklearn/neural_network/_multilayer_perceptron.py:691: ConvergenceWarning: Stochastic Optimizer: Maximum iterations (1000) reached and the optimization hasn't converged yet.\n",
            "  warnings.warn(\n"
          ]
        }
      ]
    },
    {
      "cell_type": "code",
      "source": [
        "modelo_relu = MLPClassifier(\n",
        "    hidden_layer_sizes=(50, 25),    # Dos capas ocultas, profundas\n",
        "    activation='relu',              # ReLU en capas ocultas\n",
        "    solver='adam',                  # Optimización robusta y rápida\n",
        "    learning_rate_init=0.001,\n",
        "    max_iter=1000,\n",
        "    batch_size=16,\n",
        "    random_state=42\n",
        ")\n",
        "\n",
        "modelo_relu.fit(X_train, y_train)\n",
        "\n",
        "y_pred = modelo_relu.predict(X_test)\n",
        "\n",
        "from sklearn.metrics import classification_report, confusion_matrix\n",
        "print(confusion_matrix(y_test, y_pred))\n",
        "print(classification_report(y_test, y_pred))"
      ],
      "metadata": {
        "colab": {
          "base_uri": "https://localhost:8080/"
        },
        "id": "PdJYsPJm-JAI",
        "outputId": "bf7a6f8b-1dd8-4018-b337-ea4602ba38cc"
      },
      "execution_count": 107,
      "outputs": [
        {
          "output_type": "stream",
          "name": "stdout",
          "text": [
            "[[12  0  0]\n",
            " [ 0 10  0]\n",
            " [ 0  0  8]]\n",
            "                 precision    recall  f1-score   support\n",
            "\n",
            "    Iris-setosa       1.00      1.00      1.00        12\n",
            "Iris-versicolor       1.00      1.00      1.00        10\n",
            " Iris-virginica       1.00      1.00      1.00         8\n",
            "\n",
            "       accuracy                           1.00        30\n",
            "      macro avg       1.00      1.00      1.00        30\n",
            "   weighted avg       1.00      1.00      1.00        30\n",
            "\n"
          ]
        }
      ]
    },
    {
      "cell_type": "code",
      "source": [
        "from sklearn.neural_network import MLPClassifier\n",
        "\n",
        "# ------------------------------------------------------------------------------\n",
        "# MODELO 1: Red profunda con activación ReLU\n",
        "# ------------------------------------------------------------------------------\n",
        "\n",
        "modelo_relu = MLPClassifier(\n",
        "    hidden_layer_sizes=(50, 25),     # Dos capas ocultas: la primera con 50 neuronas, la segunda con 25\n",
        "    activation='relu',               # ReLU (Rectified Linear Unit): permite modelar relaciones no lineales y evita el problema del gradiente desaparecido\n",
        "    solver='sgd',                    # Stochastic Gradient Descent: actualiza los pesos por cada lote de entrenamiento (más lento pero flexible)\n",
        "    learning_rate_init=0.00001,      # Tasa de aprendizaje muy baja, útil cuando el SGD necesita precisión al converger\n",
        "    max_iter=1000,                   # Número máximo de iteraciones para entrenar el modelo\n",
        "    batch_size=16,                   # Número de muestras usadas por lote para actualizar los pesos\n",
        "    random_state=42                  # Semilla para asegurar reproducibilidad de resultados\n",
        ")\n",
        "\n",
        "# Uso sugerido: problemas multiclase con relaciones no lineales complejas y entrenamiento fino con control del aprendizaje\n",
        "\n",
        "\n",
        "# ------------------------------------------------------------------------------\n",
        "# MODELO 2: Red simple con activación sigmoide (logistic)\n",
        "# ------------------------------------------------------------------------------\n",
        "\n",
        "modelo_softmax = MLPClassifier(\n",
        "    hidden_layer_sizes=(30,),        # Una sola capa oculta con 30 neuronas\n",
        "    activation='logistic',           # Función sigmoide: salida en rango [0,1], permite interpretar como probabilidad (similar a softmax en binaria)\n",
        "    solver='lbfgs',                  # Algoritmo de optimización cuasi-Newtoniano eficiente para datasets pequeños o medianos\n",
        "    learning_rate_init=0.01,         # Tasa de aprendizaje inicial más elevada, pero no se usa directamente con lbfgs\n",
        "    max_iter=1000,                   # Número máximo de iteraciones para la optimización\n",
        "    random_state=42                  # Control de aleatoriedad\n",
        ")\n",
        "\n",
        "# Uso sugerido: clasificación simple o análisis probabilístico de clases, especialmente cuando el dataset es pequeño y se necesita precisión en la convergencia\n",
        "\n",
        "\n",
        "# ------------------------------------------------------------------------------\n",
        "# MODELO 3: Red balanceada (modelo recomendado base)\n",
        "# ------------------------------------------------------------------------------\n",
        "\n",
        "modeloPerfecto = MLPClassifier(\n",
        "    hidden_layer_sizes=(20, 10),     # Red de dos capas ocultas moderadas: una con 20 y otra con 10 neuronas\n",
        "    activation='relu',               # Función ReLU: buen rendimiento en tareas generales, evita saturación de gradiente\n",
        "    solver='adam',                   # Optimizador adaptativo basado en momentum: rápido y efectivo en la mayoría de los casos\n",
        "    learning_rate_init=0.0001,       # Tasa de aprendizaje conservadora que asegura estabilidad\n",
        "    max_iter=1000,                   # Número máximo de épocas de entrenamiento\n",
        "    batch_size=16,                   # Mini-batches pequeños que mejoran la generalización y reducen la varianza de actualización\n",
        "    random_state=42                  # Reproducibilidad del entrenamiento\n",
        ")\n",
        "\n",
        "# Uso sugerido: tareas generales de clasificación multiclase, con buen equilibrio entre profundidad, velocidad y precisión\n"
      ],
      "metadata": {
        "id": "bxrUjwdDZTLT"
      },
      "execution_count": 108,
      "outputs": []
    },
    {
      "cell_type": "code",
      "source": [
        "from sklearn.neural_network import MLPClassifier\n",
        "from sklearn.metrics import classification_report, confusion_matrix\n",
        "\n",
        "# MODELO 1: ReLU con arquitectura profunda\n",
        "modelo_relu = MLPClassifier(hidden_layer_sizes=(50, 25), activation='relu', solver='sgd',\n",
        "                            learning_rate_init=0.00001, max_iter=1000, batch_size=16, random_state=42)\n",
        "modelo_relu.fit(X_train, y_train)\n",
        "y_pred_relu = modelo_relu.predict(X_test)\n",
        "accuracy_relu = modelo_relu.score(X_test, y_test)\n",
        "print(\"🔹 Modelo ReLU - Precisión:\", accuracy_relu)\n",
        "print(\"Matriz de confusión:\")\n",
        "print(confusion_matrix(y_test, y_pred_relu))\n",
        "print(\"Reporte de clasificación:\")\n",
        "print(classification_report(y_test, y_pred_relu))\n",
        "\n",
        "\n",
        "# MODELO 2: Softmax (sigmoid) con arquitectura simple\n",
        "modelo_softmax = MLPClassifier(hidden_layer_sizes=(30,), activation='logistic', solver='lbfgs',\n",
        "                               learning_rate_init=0.01, max_iter=1000, random_state=42)\n",
        "modelo_softmax.fit(X_train, y_train)\n",
        "y_pred_softmax = modelo_softmax.predict(X_test)\n",
        "accuracy_softmax = modelo_softmax.score(X_test, y_test)\n",
        "print(\"🔹 Modelo Softmax - Precisión:\", accuracy_softmax)\n",
        "print(\"Matriz de confusión:\")\n",
        "print(confusion_matrix(y_test, y_pred_softmax))\n",
        "print(\"Reporte de clasificación:\")\n",
        "print(classification_report(y_test, y_pred_softmax))\n",
        "\n",
        "\n",
        "# MODELO 3: Balanceado (modelo recomendado base)\n",
        "modeloPerfecto = MLPClassifier(hidden_layer_sizes=(20, 10), activation='relu', solver='adam',\n",
        "                               learning_rate_init=0.0001, max_iter=1000, batch_size=16, random_state=42)\n",
        "modeloPerfecto.fit(X_train, y_train)\n",
        "y_pred_perfecto = modeloPerfecto.predict(X_test)\n",
        "accuracy_perfecto = modeloPerfecto.score(X_test, y_test)\n",
        "print(\"🔹 Modelo Perfecto - Precisión:\", accuracy_perfecto)\n",
        "print(\"Matriz de confusión:\")\n",
        "print(confusion_matrix(y_test, y_pred_perfecto))\n",
        "print(\"Reporte de clasificación:\")\n",
        "print(classification_report(y_test, y_pred_perfecto))\n",
        "\n",
        "\n",
        "# COMPARATIVA FINAL\n",
        "print(\"📊 COMPARACIÓN DE PRECISIONES\")\n",
        "print(f\"Modelo ReLU       : {accuracy_relu:.4f}\")\n",
        "print(f\"Modelo Softmax    : {accuracy_softmax:.4f}\")\n",
        "print(f\"Modelo Perfecto   : {accuracy_perfecto:.4f}\")\n"
      ],
      "metadata": {
        "colab": {
          "base_uri": "https://localhost:8080/"
        },
        "id": "Vf60yJP5ZeSn",
        "outputId": "d0cf19e0-da24-48b4-c623-5f169b967972"
      },
      "execution_count": 109,
      "outputs": [
        {
          "output_type": "stream",
          "name": "stdout",
          "text": [
            "🔹 Modelo ReLU - Precisión: 0.9\n",
            "Matriz de confusión:\n",
            "[[12  0  0]\n",
            " [ 0  7  3]\n",
            " [ 0  0  8]]\n",
            "Reporte de clasificación:\n",
            "                 precision    recall  f1-score   support\n",
            "\n",
            "    Iris-setosa       1.00      1.00      1.00        12\n",
            "Iris-versicolor       1.00      0.70      0.82        10\n",
            " Iris-virginica       0.73      1.00      0.84         8\n",
            "\n",
            "       accuracy                           0.90        30\n",
            "      macro avg       0.91      0.90      0.89        30\n",
            "   weighted avg       0.93      0.90      0.90        30\n",
            "\n",
            "🔹 Modelo Softmax - Precisión: 1.0\n",
            "Matriz de confusión:\n",
            "[[12  0  0]\n",
            " [ 0 10  0]\n",
            " [ 0  0  8]]\n",
            "Reporte de clasificación:\n",
            "                 precision    recall  f1-score   support\n",
            "\n",
            "    Iris-setosa       1.00      1.00      1.00        12\n",
            "Iris-versicolor       1.00      1.00      1.00        10\n",
            " Iris-virginica       1.00      1.00      1.00         8\n",
            "\n",
            "       accuracy                           1.00        30\n",
            "      macro avg       1.00      1.00      1.00        30\n",
            "   weighted avg       1.00      1.00      1.00        30\n",
            "\n",
            "🔹 Modelo Perfecto - Precisión: 1.0\n",
            "Matriz de confusión:\n",
            "[[12  0  0]\n",
            " [ 0 10  0]\n",
            " [ 0  0  8]]\n",
            "Reporte de clasificación:\n",
            "                 precision    recall  f1-score   support\n",
            "\n",
            "    Iris-setosa       1.00      1.00      1.00        12\n",
            "Iris-versicolor       1.00      1.00      1.00        10\n",
            " Iris-virginica       1.00      1.00      1.00         8\n",
            "\n",
            "       accuracy                           1.00        30\n",
            "      macro avg       1.00      1.00      1.00        30\n",
            "   weighted avg       1.00      1.00      1.00        30\n",
            "\n",
            "📊 COMPARACIÓN DE PRECISIONES\n",
            "Modelo ReLU       : 0.9000\n",
            "Modelo Softmax    : 1.0000\n",
            "Modelo Perfecto   : 1.0000\n"
          ]
        },
        {
          "output_type": "stream",
          "name": "stderr",
          "text": [
            "/usr/local/lib/python3.11/dist-packages/sklearn/neural_network/_multilayer_perceptron.py:691: ConvergenceWarning: Stochastic Optimizer: Maximum iterations (1000) reached and the optimization hasn't converged yet.\n",
            "  warnings.warn(\n"
          ]
        }
      ]
    },
    {
      "cell_type": "code",
      "source": [
        "# Crear el DataFrame con los resultados obtenidos para cada modelo\n",
        "data = {\n",
        "    'ReLU':         [0.87, 0.86, 0.83, 0.87],\n",
        "    'Softmax':      [1.00, 1.00, 1.00, 1.00],\n",
        "    'Perfecto':     [1.00, 1.00, 1.00, 1.00]\n",
        "}\n",
        "\n",
        "# Definir los nombres de las métricas\n",
        "metricas = ['Accuracy', 'F1-Score', 'Recall', 'Precision']\n",
        "\n",
        "# Crear el DataFrame\n",
        "df = pd.DataFrame(data, index=metricas)\n",
        "\n",
        "# Calcular y agregar columnas de media y desviación estándar\n",
        "df['Media (𝑋̄)'] = df.mean(axis=1).round(2)\n",
        "df['Desviación Estándar (σ²)'] = df.std(axis=1).round(2)\n",
        "\n",
        "# Mostrar el DataFrame\n",
        "print(\"📊 Tabla comparativa de desempeño de los modelos MLP:\\n\")\n",
        "display(df)\n"
      ],
      "metadata": {
        "colab": {
          "base_uri": "https://localhost:8080/",
          "height": 212
        },
        "id": "89jnhKyYeAjm",
        "outputId": "fd5c8382-c84b-4bf0-dc0f-a144a0b2c1a6"
      },
      "execution_count": 110,
      "outputs": [
        {
          "output_type": "stream",
          "name": "stdout",
          "text": [
            "📊 Tabla comparativa de desempeño de los modelos MLP:\n",
            "\n"
          ]
        },
        {
          "output_type": "display_data",
          "data": {
            "text/plain": [
              "           ReLU  Softmax  Perfecto  Media (𝑋̄)  Desviación Estándar (σ²)\n",
              "Accuracy   0.87      1.0       1.0        0.96                      0.06\n",
              "F1-Score   0.86      1.0       1.0        0.95                      0.07\n",
              "Recall     0.83      1.0       1.0        0.94                      0.08\n",
              "Precision  0.87      1.0       1.0        0.96                      0.06"
            ],
            "text/html": [
              "\n",
              "  <div id=\"df-43ce25fe-1aae-4792-9316-2cc996859ffd\" class=\"colab-df-container\">\n",
              "    <div>\n",
              "<style scoped>\n",
              "    .dataframe tbody tr th:only-of-type {\n",
              "        vertical-align: middle;\n",
              "    }\n",
              "\n",
              "    .dataframe tbody tr th {\n",
              "        vertical-align: top;\n",
              "    }\n",
              "\n",
              "    .dataframe thead th {\n",
              "        text-align: right;\n",
              "    }\n",
              "</style>\n",
              "<table border=\"1\" class=\"dataframe\">\n",
              "  <thead>\n",
              "    <tr style=\"text-align: right;\">\n",
              "      <th></th>\n",
              "      <th>ReLU</th>\n",
              "      <th>Softmax</th>\n",
              "      <th>Perfecto</th>\n",
              "      <th>Media (𝑋̄)</th>\n",
              "      <th>Desviación Estándar (σ²)</th>\n",
              "    </tr>\n",
              "  </thead>\n",
              "  <tbody>\n",
              "    <tr>\n",
              "      <th>Accuracy</th>\n",
              "      <td>0.87</td>\n",
              "      <td>1.0</td>\n",
              "      <td>1.0</td>\n",
              "      <td>0.96</td>\n",
              "      <td>0.06</td>\n",
              "    </tr>\n",
              "    <tr>\n",
              "      <th>F1-Score</th>\n",
              "      <td>0.86</td>\n",
              "      <td>1.0</td>\n",
              "      <td>1.0</td>\n",
              "      <td>0.95</td>\n",
              "      <td>0.07</td>\n",
              "    </tr>\n",
              "    <tr>\n",
              "      <th>Recall</th>\n",
              "      <td>0.83</td>\n",
              "      <td>1.0</td>\n",
              "      <td>1.0</td>\n",
              "      <td>0.94</td>\n",
              "      <td>0.08</td>\n",
              "    </tr>\n",
              "    <tr>\n",
              "      <th>Precision</th>\n",
              "      <td>0.87</td>\n",
              "      <td>1.0</td>\n",
              "      <td>1.0</td>\n",
              "      <td>0.96</td>\n",
              "      <td>0.06</td>\n",
              "    </tr>\n",
              "  </tbody>\n",
              "</table>\n",
              "</div>\n",
              "    <div class=\"colab-df-buttons\">\n",
              "\n",
              "  <div class=\"colab-df-container\">\n",
              "    <button class=\"colab-df-convert\" onclick=\"convertToInteractive('df-43ce25fe-1aae-4792-9316-2cc996859ffd')\"\n",
              "            title=\"Convert this dataframe to an interactive table.\"\n",
              "            style=\"display:none;\">\n",
              "\n",
              "  <svg xmlns=\"http://www.w3.org/2000/svg\" height=\"24px\" viewBox=\"0 -960 960 960\">\n",
              "    <path d=\"M120-120v-720h720v720H120Zm60-500h600v-160H180v160Zm220 220h160v-160H400v160Zm0 220h160v-160H400v160ZM180-400h160v-160H180v160Zm440 0h160v-160H620v160ZM180-180h160v-160H180v160Zm440 0h160v-160H620v160Z\"/>\n",
              "  </svg>\n",
              "    </button>\n",
              "\n",
              "  <style>\n",
              "    .colab-df-container {\n",
              "      display:flex;\n",
              "      gap: 12px;\n",
              "    }\n",
              "\n",
              "    .colab-df-convert {\n",
              "      background-color: #E8F0FE;\n",
              "      border: none;\n",
              "      border-radius: 50%;\n",
              "      cursor: pointer;\n",
              "      display: none;\n",
              "      fill: #1967D2;\n",
              "      height: 32px;\n",
              "      padding: 0 0 0 0;\n",
              "      width: 32px;\n",
              "    }\n",
              "\n",
              "    .colab-df-convert:hover {\n",
              "      background-color: #E2EBFA;\n",
              "      box-shadow: 0px 1px 2px rgba(60, 64, 67, 0.3), 0px 1px 3px 1px rgba(60, 64, 67, 0.15);\n",
              "      fill: #174EA6;\n",
              "    }\n",
              "\n",
              "    .colab-df-buttons div {\n",
              "      margin-bottom: 4px;\n",
              "    }\n",
              "\n",
              "    [theme=dark] .colab-df-convert {\n",
              "      background-color: #3B4455;\n",
              "      fill: #D2E3FC;\n",
              "    }\n",
              "\n",
              "    [theme=dark] .colab-df-convert:hover {\n",
              "      background-color: #434B5C;\n",
              "      box-shadow: 0px 1px 3px 1px rgba(0, 0, 0, 0.15);\n",
              "      filter: drop-shadow(0px 1px 2px rgba(0, 0, 0, 0.3));\n",
              "      fill: #FFFFFF;\n",
              "    }\n",
              "  </style>\n",
              "\n",
              "    <script>\n",
              "      const buttonEl =\n",
              "        document.querySelector('#df-43ce25fe-1aae-4792-9316-2cc996859ffd button.colab-df-convert');\n",
              "      buttonEl.style.display =\n",
              "        google.colab.kernel.accessAllowed ? 'block' : 'none';\n",
              "\n",
              "      async function convertToInteractive(key) {\n",
              "        const element = document.querySelector('#df-43ce25fe-1aae-4792-9316-2cc996859ffd');\n",
              "        const dataTable =\n",
              "          await google.colab.kernel.invokeFunction('convertToInteractive',\n",
              "                                                    [key], {});\n",
              "        if (!dataTable) return;\n",
              "\n",
              "        const docLinkHtml = 'Like what you see? Visit the ' +\n",
              "          '<a target=\"_blank\" href=https://colab.research.google.com/notebooks/data_table.ipynb>data table notebook</a>'\n",
              "          + ' to learn more about interactive tables.';\n",
              "        element.innerHTML = '';\n",
              "        dataTable['output_type'] = 'display_data';\n",
              "        await google.colab.output.renderOutput(dataTable, element);\n",
              "        const docLink = document.createElement('div');\n",
              "        docLink.innerHTML = docLinkHtml;\n",
              "        element.appendChild(docLink);\n",
              "      }\n",
              "    </script>\n",
              "  </div>\n",
              "\n",
              "\n",
              "    <div id=\"df-aadfee10-97ec-4aff-9680-392a17cd0f99\">\n",
              "      <button class=\"colab-df-quickchart\" onclick=\"quickchart('df-aadfee10-97ec-4aff-9680-392a17cd0f99')\"\n",
              "                title=\"Suggest charts\"\n",
              "                style=\"display:none;\">\n",
              "\n",
              "<svg xmlns=\"http://www.w3.org/2000/svg\" height=\"24px\"viewBox=\"0 0 24 24\"\n",
              "     width=\"24px\">\n",
              "    <g>\n",
              "        <path d=\"M19 3H5c-1.1 0-2 .9-2 2v14c0 1.1.9 2 2 2h14c1.1 0 2-.9 2-2V5c0-1.1-.9-2-2-2zM9 17H7v-7h2v7zm4 0h-2V7h2v10zm4 0h-2v-4h2v4z\"/>\n",
              "    </g>\n",
              "</svg>\n",
              "      </button>\n",
              "\n",
              "<style>\n",
              "  .colab-df-quickchart {\n",
              "      --bg-color: #E8F0FE;\n",
              "      --fill-color: #1967D2;\n",
              "      --hover-bg-color: #E2EBFA;\n",
              "      --hover-fill-color: #174EA6;\n",
              "      --disabled-fill-color: #AAA;\n",
              "      --disabled-bg-color: #DDD;\n",
              "  }\n",
              "\n",
              "  [theme=dark] .colab-df-quickchart {\n",
              "      --bg-color: #3B4455;\n",
              "      --fill-color: #D2E3FC;\n",
              "      --hover-bg-color: #434B5C;\n",
              "      --hover-fill-color: #FFFFFF;\n",
              "      --disabled-bg-color: #3B4455;\n",
              "      --disabled-fill-color: #666;\n",
              "  }\n",
              "\n",
              "  .colab-df-quickchart {\n",
              "    background-color: var(--bg-color);\n",
              "    border: none;\n",
              "    border-radius: 50%;\n",
              "    cursor: pointer;\n",
              "    display: none;\n",
              "    fill: var(--fill-color);\n",
              "    height: 32px;\n",
              "    padding: 0;\n",
              "    width: 32px;\n",
              "  }\n",
              "\n",
              "  .colab-df-quickchart:hover {\n",
              "    background-color: var(--hover-bg-color);\n",
              "    box-shadow: 0 1px 2px rgba(60, 64, 67, 0.3), 0 1px 3px 1px rgba(60, 64, 67, 0.15);\n",
              "    fill: var(--button-hover-fill-color);\n",
              "  }\n",
              "\n",
              "  .colab-df-quickchart-complete:disabled,\n",
              "  .colab-df-quickchart-complete:disabled:hover {\n",
              "    background-color: var(--disabled-bg-color);\n",
              "    fill: var(--disabled-fill-color);\n",
              "    box-shadow: none;\n",
              "  }\n",
              "\n",
              "  .colab-df-spinner {\n",
              "    border: 2px solid var(--fill-color);\n",
              "    border-color: transparent;\n",
              "    border-bottom-color: var(--fill-color);\n",
              "    animation:\n",
              "      spin 1s steps(1) infinite;\n",
              "  }\n",
              "\n",
              "  @keyframes spin {\n",
              "    0% {\n",
              "      border-color: transparent;\n",
              "      border-bottom-color: var(--fill-color);\n",
              "      border-left-color: var(--fill-color);\n",
              "    }\n",
              "    20% {\n",
              "      border-color: transparent;\n",
              "      border-left-color: var(--fill-color);\n",
              "      border-top-color: var(--fill-color);\n",
              "    }\n",
              "    30% {\n",
              "      border-color: transparent;\n",
              "      border-left-color: var(--fill-color);\n",
              "      border-top-color: var(--fill-color);\n",
              "      border-right-color: var(--fill-color);\n",
              "    }\n",
              "    40% {\n",
              "      border-color: transparent;\n",
              "      border-right-color: var(--fill-color);\n",
              "      border-top-color: var(--fill-color);\n",
              "    }\n",
              "    60% {\n",
              "      border-color: transparent;\n",
              "      border-right-color: var(--fill-color);\n",
              "    }\n",
              "    80% {\n",
              "      border-color: transparent;\n",
              "      border-right-color: var(--fill-color);\n",
              "      border-bottom-color: var(--fill-color);\n",
              "    }\n",
              "    90% {\n",
              "      border-color: transparent;\n",
              "      border-bottom-color: var(--fill-color);\n",
              "    }\n",
              "  }\n",
              "</style>\n",
              "\n",
              "      <script>\n",
              "        async function quickchart(key) {\n",
              "          const quickchartButtonEl =\n",
              "            document.querySelector('#' + key + ' button');\n",
              "          quickchartButtonEl.disabled = true;  // To prevent multiple clicks.\n",
              "          quickchartButtonEl.classList.add('colab-df-spinner');\n",
              "          try {\n",
              "            const charts = await google.colab.kernel.invokeFunction(\n",
              "                'suggestCharts', [key], {});\n",
              "          } catch (error) {\n",
              "            console.error('Error during call to suggestCharts:', error);\n",
              "          }\n",
              "          quickchartButtonEl.classList.remove('colab-df-spinner');\n",
              "          quickchartButtonEl.classList.add('colab-df-quickchart-complete');\n",
              "        }\n",
              "        (() => {\n",
              "          let quickchartButtonEl =\n",
              "            document.querySelector('#df-aadfee10-97ec-4aff-9680-392a17cd0f99 button');\n",
              "          quickchartButtonEl.style.display =\n",
              "            google.colab.kernel.accessAllowed ? 'block' : 'none';\n",
              "        })();\n",
              "      </script>\n",
              "    </div>\n",
              "\n",
              "  <div id=\"id_7e634713-8e2f-4e1c-8f53-77b2ad647e33\">\n",
              "    <style>\n",
              "      .colab-df-generate {\n",
              "        background-color: #E8F0FE;\n",
              "        border: none;\n",
              "        border-radius: 50%;\n",
              "        cursor: pointer;\n",
              "        display: none;\n",
              "        fill: #1967D2;\n",
              "        height: 32px;\n",
              "        padding: 0 0 0 0;\n",
              "        width: 32px;\n",
              "      }\n",
              "\n",
              "      .colab-df-generate:hover {\n",
              "        background-color: #E2EBFA;\n",
              "        box-shadow: 0px 1px 2px rgba(60, 64, 67, 0.3), 0px 1px 3px 1px rgba(60, 64, 67, 0.15);\n",
              "        fill: #174EA6;\n",
              "      }\n",
              "\n",
              "      [theme=dark] .colab-df-generate {\n",
              "        background-color: #3B4455;\n",
              "        fill: #D2E3FC;\n",
              "      }\n",
              "\n",
              "      [theme=dark] .colab-df-generate:hover {\n",
              "        background-color: #434B5C;\n",
              "        box-shadow: 0px 1px 3px 1px rgba(0, 0, 0, 0.15);\n",
              "        filter: drop-shadow(0px 1px 2px rgba(0, 0, 0, 0.3));\n",
              "        fill: #FFFFFF;\n",
              "      }\n",
              "    </style>\n",
              "    <button class=\"colab-df-generate\" onclick=\"generateWithVariable('df')\"\n",
              "            title=\"Generate code using this dataframe.\"\n",
              "            style=\"display:none;\">\n",
              "\n",
              "  <svg xmlns=\"http://www.w3.org/2000/svg\" height=\"24px\"viewBox=\"0 0 24 24\"\n",
              "       width=\"24px\">\n",
              "    <path d=\"M7,19H8.4L18.45,9,17,7.55,7,17.6ZM5,21V16.75L18.45,3.32a2,2,0,0,1,2.83,0l1.4,1.43a1.91,1.91,0,0,1,.58,1.4,1.91,1.91,0,0,1-.58,1.4L9.25,21ZM18.45,9,17,7.55Zm-12,3A5.31,5.31,0,0,0,4.9,8.1,5.31,5.31,0,0,0,1,6.5,5.31,5.31,0,0,0,4.9,4.9,5.31,5.31,0,0,0,6.5,1,5.31,5.31,0,0,0,8.1,4.9,5.31,5.31,0,0,0,12,6.5,5.46,5.46,0,0,0,6.5,12Z\"/>\n",
              "  </svg>\n",
              "    </button>\n",
              "    <script>\n",
              "      (() => {\n",
              "      const buttonEl =\n",
              "        document.querySelector('#id_7e634713-8e2f-4e1c-8f53-77b2ad647e33 button.colab-df-generate');\n",
              "      buttonEl.style.display =\n",
              "        google.colab.kernel.accessAllowed ? 'block' : 'none';\n",
              "\n",
              "      buttonEl.onclick = () => {\n",
              "        google.colab.notebook.generateWithVariable('df');\n",
              "      }\n",
              "      })();\n",
              "    </script>\n",
              "  </div>\n",
              "\n",
              "    </div>\n",
              "  </div>\n"
            ],
            "application/vnd.google.colaboratory.intrinsic+json": {
              "type": "dataframe",
              "variable_name": "df",
              "summary": "{\n  \"name\": \"df\",\n  \"rows\": 4,\n  \"fields\": [\n    {\n      \"column\": \"ReLU\",\n      \"properties\": {\n        \"dtype\": \"number\",\n        \"std\": 0.01892969448600093,\n        \"min\": 0.83,\n        \"max\": 0.87,\n        \"num_unique_values\": 3,\n        \"samples\": [\n          0.87,\n          0.86,\n          0.83\n        ],\n        \"semantic_type\": \"\",\n        \"description\": \"\"\n      }\n    },\n    {\n      \"column\": \"Softmax\",\n      \"properties\": {\n        \"dtype\": \"number\",\n        \"std\": 0.0,\n        \"min\": 1.0,\n        \"max\": 1.0,\n        \"num_unique_values\": 1,\n        \"samples\": [\n          1.0\n        ],\n        \"semantic_type\": \"\",\n        \"description\": \"\"\n      }\n    },\n    {\n      \"column\": \"Perfecto\",\n      \"properties\": {\n        \"dtype\": \"number\",\n        \"std\": 0.0,\n        \"min\": 1.0,\n        \"max\": 1.0,\n        \"num_unique_values\": 1,\n        \"samples\": [\n          1.0\n        ],\n        \"semantic_type\": \"\",\n        \"description\": \"\"\n      }\n    },\n    {\n      \"column\": \"Media (\\ud835\\udc4b\\u0304)\",\n      \"properties\": {\n        \"dtype\": \"number\",\n        \"std\": 0.00957427107756339,\n        \"min\": 0.94,\n        \"max\": 0.96,\n        \"num_unique_values\": 3,\n        \"samples\": [\n          0.96\n        ],\n        \"semantic_type\": \"\",\n        \"description\": \"\"\n      }\n    },\n    {\n      \"column\": \"Desviaci\\u00f3n Est\\u00e1ndar (\\u03c3\\u00b2)\",\n      \"properties\": {\n        \"dtype\": \"number\",\n        \"std\": 0.009574271077563383,\n        \"min\": 0.06,\n        \"max\": 0.08,\n        \"num_unique_values\": 3,\n        \"samples\": [\n          0.06\n        ],\n        \"semantic_type\": \"\",\n        \"description\": \"\"\n      }\n    }\n  ]\n}"
            }
          },
          "metadata": {}
        }
      ]
    }
  ]
}